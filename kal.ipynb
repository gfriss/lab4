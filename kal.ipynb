{
 "cells": [
  {
   "cell_type": "code",
   "execution_count": 1,
   "metadata": {},
   "outputs": [
    {
     "name": "stdout",
     "output_type": "stream",
     "text": [
      "Populating the interactive namespace from numpy and matplotlib\n"
     ]
    }
   ],
   "source": [
    "%pylab inline\n",
    "from scipy.optimize import curve_fit"
   ]
  },
  {
   "cell_type": "code",
   "execution_count": 2,
   "metadata": {},
   "outputs": [],
   "source": [
    "def lin(x, a, b):\n",
    "    return a*x + b"
   ]
  },
  {
   "cell_type": "code",
   "execution_count": 3,
   "metadata": {},
   "outputs": [],
   "source": [
    "T = array([661.87, 671.4, 690.83])\n",
    "perT = 1/T\n",
    "y = log(array([10, 20, 40]))\n",
    "R = 8.314"
   ]
  },
  {
   "cell_type": "code",
   "execution_count": 4,
   "metadata": {},
   "outputs": [
    {
     "name": "stdout",
     "output_type": "stream",
     "text": [
      "['a', 'b']\n",
      "[-21153.00057208     34.3573819 ]\n",
      "[3942.30854528    5.84582565]\n"
     ]
    }
   ],
   "source": [
    "popt,pcov=curve_fit(lin, perT, y) # az illesztés elvégzése\n",
    "perr = sqrt(diag(pcov))      # az illesztési paraméterek hibáinak meghatározása\n",
    "print (['a','b'])\n",
    "print (popt)\n",
    "print (perr)"
   ]
  },
  {
   "cell_type": "code",
   "execution_count": 7,
   "metadata": {},
   "outputs": [
    {
     "data": {
      "image/png": "[encoded data removed]",
      "text/plain": [
       "<Figure size 432x288 with 1 Axes>"
      ]
     },
     "metadata": {
      "needs_background": "light"
     },
     "output_type": "display_data"
    }
   ],
   "source": [
    "x = 1000*linspace(0.00144, 0.00152, 100)\n",
    "plot(1000*perT, y, 'b.', label = 'adatok')\n",
    "plot(x, lin(x/1000, *popt), color = 'orange', label = 'fit')\n",
    "xlabel(r'$1000/T_{max} [1/K]$', fontsize = 13)\n",
    "ylabel('ln(v)', fontsize = 13)\n",
    "legend()\n",
    "savefig('aktiv.png')"
   ]
  },
  {
   "cell_type": "code",
   "execution_count": 6,
   "metadata": {},
   "outputs": [
    {
     "name": "stdout",
     "output_type": "stream",
     "text": [
      "Q = 167173.0482473787 +- -31156.22932081463 J/mol\n"
     ]
    }
   ],
   "source": [
    "Q = -popt[0]*R/1.052\n",
    "Qerr = -perr[0]*R/1.052\n",
    "print('Q =', Q, '+-', Qerr, 'J/mol')"
   ]
  },
  {
   "cell_type": "code",
   "execution_count": null,
   "metadata": {},
   "outputs": [],
   "source": []
  }
 ],
 "metadata": {
  "kernelspec": {
   "display_name": "Python 3",
   "language": "python",
   "name": "python3"
  },
  "language_info": {
   "codemirror_mode": {
    "name": "ipython",
    "version": 3
   },
   "file_extension": ".py",
   "mimetype": "text/x-python",
   "name": "python",
   "nbconvert_exporter": "python",
   "pygments_lexer": "ipython3",
   "version": "3.7.1"
  }
 },
 "nbformat": 4,
 "nbformat_minor": 2
}
