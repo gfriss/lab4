{
 "cells": [
  {
   "cell_type": "code",
   "execution_count": 1,
   "metadata": {},
   "outputs": [
    {
     "name": "stdout",
     "output_type": "stream",
     "text": [
      "Populating the interactive namespace from numpy and matplotlib\n"
     ]
    }
   ],
   "source": [
    "%pylab inline\n",
    "from scipy.optimize import curve_fit\n",
    "from scipy.constants import *"
   ]
  },
  {
   "cell_type": "code",
   "execution_count": 2,
   "metadata": {},
   "outputs": [],
   "source": [
    "frek = array([4.074, 5.1105, 5.552, 7.213])\n",
    "freker = 0.03\n",
    "B1 = array([27.5, 36, 38, 50])\n",
    "B2 = array([29, 36, 38, 50])\n",
    "B3 = array([28, 36, 39, 50])"
   ]
  },
  {
   "cell_type": "code",
   "execution_count": 3,
   "metadata": {},
   "outputs": [],
   "source": [
    "B = array(zeros(4))\n",
    "for i in range(len(B1)):\n",
    "    B[i] = (B1[i] + B2[i] + B3[i])/3 * 3.35 * 1e-3\n",
    "    \n",
    "omega = 2 * pi * frek * 1e6\n",
    "omegaer = 2 * pi *freker * 1e6"
   ]
  },
  {
   "cell_type": "code",
   "execution_count": 10,
   "metadata": {},
   "outputs": [
    {
     "name": "stdout",
     "output_type": "stream",
     "text": [
      "[25597696.94144963 32110218.51234128 34884244.82546106 45320615.62068635]\n",
      "[0.09435833 0.1206     0.12841667 0.1675    ]\n",
      "188495.55921538756\n"
     ]
    }
   ],
   "source": [
    "print(omega)\n",
    "print(B)\n",
    "print(omegaer)"
   ]
  },
  {
   "cell_type": "code",
   "execution_count": 5,
   "metadata": {},
   "outputs": [],
   "source": [
    "def lin(x, a):\n",
    "    return a*x\n",
    "\n",
    "def illeszt(f, x, y):\n",
    "    popt,pcov=curve_fit(f, x, y) # az illesztés elvégzése\n",
    "    perr = sqrt(diag(pcov))      # az illesztési paraméterek hibáinak meghatározása\n",
    "    print(popt, '+-', perr)\n",
    "    return popt, perr"
   ]
  },
  {
   "cell_type": "code",
   "execution_count": 6,
   "metadata": {},
   "outputs": [
    {
     "name": "stdout",
     "output_type": "stream",
     "text": [
      "[2.70001981e+08] +- [1156255.15413136]\n"
     ]
    }
   ],
   "source": [
    "gamma, dgamma = illeszt(lin, B, omega)"
   ]
  },
  {
   "cell_type": "code",
   "execution_count": 24,
   "metadata": {
    "scrolled": true
   },
   "outputs": [
    {
     "data": {
      "image/png": "[encoded data removed]",
      "text/plain": [
       "<Figure size 432x288 with 1 Axes>"
      ]
     },
     "metadata": {
      "needs_background": "light"
     },
     "output_type": "display_data"
    }
   ],
   "source": [
    "x = linspace(25, 52, 1000)\n",
    "\n",
    "xlabel('B[T]', fontsize = 15)\n",
    "ylabel(r'$\\omega[Hz]$', fontsize = 15)\n",
    "\n",
    "plot(B, lin(B, gamma[0]), label='illesztés')\n",
    "errorbar(B, omega, yerr = 3e3*2*pi, xerr = 0.0035, linestyle='', marker='o', label='adatok')\n",
    "\n",
    "legend(fontsize = 13)\n",
    "savefig('gamma.png')"
   ]
  },
  {
   "cell_type": "code",
   "execution_count": 8,
   "metadata": {},
   "outputs": [
    {
     "data": {
      "text/plain": [
       "5.6374711721385"
      ]
     },
     "execution_count": 8,
     "metadata": {},
     "output_type": "execute_result"
    }
   ],
   "source": [
    "G = 2*m_p/elementary_charge * gamma[0]\n",
    "G"
   ]
  },
  {
   "cell_type": "code",
   "execution_count": 27,
   "metadata": {},
   "outputs": [
    {
     "data": {
      "text/plain": [
       "0.02414187880871462"
      ]
     },
     "execution_count": 27,
     "metadata": {},
     "output_type": "execute_result"
    }
   ],
   "source": [
    "deltaG = 2*m_p/elementary_charge * dgamma[0]\n",
    "deltaG"
   ]
  },
  {
   "cell_type": "code",
   "execution_count": 10,
   "metadata": {},
   "outputs": [],
   "source": [
    "z = array([1, 2, 3, 4, 5, 6, 7, 8, 11])\n",
    "deltaB = array([0.1851, 0.5559, 0.4632, 0.1851, 0.0926, -0.0926, 0, 0, -0.0926])"
   ]
  },
  {
   "cell_type": "code",
   "execution_count": 17,
   "metadata": {},
   "outputs": [
    {
     "data": {
      "image/png": "[encoded data removed]",
      "text/plain": [
       "<Figure size 432x288 with 1 Axes>"
      ]
     },
     "metadata": {
      "needs_background": "light"
     },
     "output_type": "display_data"
    }
   ],
   "source": [
    "xlabel('z[cm]', fontsize = 15)\n",
    "ylabel(u'$\\Delta B$ [\\u2030]', fontsize = 15)\n",
    "xticks([1, 2, 3, 4, 5, 6, 7, 8, 9, 10, 11])\n",
    "plot(z, deltaB, 'ro')\n",
    "savefig('inhom.png')"
   ]
  },
  {
   "cell_type": "code",
   "execution_count": null,
   "metadata": {},
   "outputs": [],
   "source": []
  }
 ],
 "metadata": {
  "kernelspec": {
   "display_name": "Python 3",
   "language": "python",
   "name": "python3"
  },
  "language_info": {
   "codemirror_mode": {
    "name": "ipython",
    "version": 3
   },
   "file_extension": ".py",
   "mimetype": "text/x-python",
   "name": "python",
   "nbconvert_exporter": "python",
   "pygments_lexer": "ipython3",
   "version": "3.7.1"
  }
 },
 "nbformat": 4,
 "nbformat_minor": 2
}
